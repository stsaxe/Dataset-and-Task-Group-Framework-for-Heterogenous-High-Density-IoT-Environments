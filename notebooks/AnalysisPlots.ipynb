{
 "cells": [
  {
   "cell_type": "markdown",
   "source": [
    "# Analysis Plots"
   ],
   "metadata": {
    "collapsed": false
   },
   "id": "83f9cfaf67c5099e"
  },
  {
   "cell_type": "code",
   "execution_count": 1,
   "id": "a46a87bf45d9331",
   "metadata": {
    "collapsed": false,
    "ExecuteTime": {
     "end_time": "2025-03-20T03:34:01.006344Z",
     "start_time": "2025-03-20T03:33:59.924471Z"
    }
   },
   "outputs": [],
   "source": [
    "import sys\n",
    "sys.path.insert(0, '..')\n",
    "\n",
    "import pandas as pd\n",
    "from tgf import TaskGroup, Flag, AbstractFlag, Pipeline\n",
    "from plotting import PlotPipelineFactory\n",
    "\n",
    "import warnings\n",
    "warnings.filterwarnings(\"ignore\")\n"
   ]
  },
  {
   "cell_type": "code",
   "execution_count": 2,
   "id": "initial_id",
   "metadata": {
    "collapsed": true,
    "jupyter": {
     "outputs_hidden": true
    },
    "ExecuteTime": {
     "end_time": "2025-03-20T03:34:01.009873Z",
     "start_time": "2025-03-20T03:34:01.007415Z"
    }
   },
   "outputs": [],
   "source": [
    "dataPath  = r\"..\\data\\csv\" + \"\\\\\"\n",
    "plotPath = r\"..\\output\\plots\\analysis_plots\" + \"\\\\\"\n",
    "picklePath = r\"..\\output\\pickle_objects\\analysis_pipeline\" + \"\\\\\""
   ]
  },
  {
   "cell_type": "code",
   "execution_count": 3,
   "id": "35211b00a8bc0e9e",
   "metadata": {
    "collapsed": false,
    "ExecuteTime": {
     "end_time": "2025-03-20T03:34:01.142979Z",
     "start_time": "2025-03-20T03:34:01.010913Z"
    }
   },
   "outputs": [
    {
     "name": "stdout",
     "output_type": "stream",
     "text": [
      "Analysis Pipeline\n",
      "\t10 Pre Processing: Pre Processing\n",
      "\t\t10 Select and order columns\n",
      "\t\t15 Company ID and UUID\n",
      "\t\t\t10 Fill Company ID with None\n",
      "\t\t\t20 Fill UUID with None\n",
      "\t\t\t30 Replace Company IDs\n",
      "\t\t\t40 Replace Company UUIDs\n",
      "\t\t20 MS Data Processing\n",
      "\t\t\t10 Fill MS Data with empty String\n",
      "\t\t\t20 Length of MS Data\n",
      "\t\t\t30 Continuity Type\n",
      "\t\t\t40 Drop MS Data Column\n",
      "\t\t25 Service Data Processing\n",
      "\t\t\t10 Fill Service Data with empty String\n",
      "\t\t\t20 Length of Service Data\n",
      "\t\t\t30 Samsung Type\n",
      "\t\t\t40 Drop Service Data Column\n",
      "\t\t30 Fill Numeric NA with 0\n",
      "\t\t40 Fill String NA with None\n",
      "\t\t50 Broadcast\n",
      "\t\t60 Datetime conversion\n",
      "\t\t70 Malformed Packet\n",
      "\t\t80 Order DataFrame\n",
      "\t\t90 Convert object type to string\n",
      "\t20 Dummy Processing: Dummy Processing\n",
      "\t\t20 Dummies Protocol\n",
      "\t\t30 Dummies Channel\n",
      "\t\t40 Dummies AD Type\n",
      "\t\t50 Dummies Company\n",
      "\t\t55 Dummies UUID\n",
      "\t\t70 Dummies PDU Type\n",
      "\t\t80 Dummies Continuity Type\n",
      "\t\t90 Dummies SmartTag Type\n",
      "\t30 Labeling: Labeling\n",
      "\t\t10 Labeling auto: Labeling auto\n",
      "\t\t\tLabel AirTag and iPhone: Label AirTag and iPhone\n",
      "\t\t\tLabel Chipolo and iPhone: Label Chipolo and iPhone\n",
      "\t\t\tLabel SkyTag and iPhone: Label SkyTag and iPhone\n",
      "\t\t\tLabel Tile and iPhone: Label Tile and iPhone\n",
      "\t\t\tLabel AirPod and iPhone: Label AirPod and iPhone\n",
      "\t\t\tLabel other Device and SmartTag: Label SmartTag and other Device\n",
      "\t\t20 Labeling manual: Labeling manual\n",
      "\t\t\tLabel AirTag: Label AirTag\n",
      "\t\t\tLabel Chipolo: Label Chipolo\n",
      "\t\t\tLabel SkyTag: Label SkyTag\n",
      "\t\t\tLabel iPhone: Label iPhone\n",
      "\t\t\tLabel iPad: Label iPad\n",
      "\t\t\tLabel MacBook: Label MacBook\n",
      "\t\t\tLabel AirPod: Label AirPod\n",
      "\t\t\tLabel SmartTag: Label SmartTag\n",
      "\t\t\tLabel Tile: Label Tile\n",
      "\t\t\tLabel other Device: Label other Device\n",
      "\t40 States: States\n",
      "\t\t10 State Column\n",
      "\t\t20 States iDevices: States iDevices\n",
      "\t\t\tContinuity\n",
      "\t\t\tonline: State online\n",
      "\t\t\toffline: State offline\n",
      "\t\t30 States Trackers: States Tracker\n",
      "\t\t\tlost: State lost\n",
      "\t\t\tnearby: State nearby\n",
      "\t\t\tunpaired: State unpaired\n",
      "\t\t\tsearching: State searching\n",
      "\t\tCollapse State Column\n",
      "\t80 Modeling: Modeling\n",
      "\t\t0 Drop Column Continuity\n",
      "\t\t10 Drop Columns\n"
     ]
    }
   ],
   "source": [
    "import pickle\n",
    "with open(picklePath + 'Analysis Pipeline.pickle', 'rb') as f:\n",
    "    AnalysisPipeline = pickle.load(f)\n",
    "\n",
    "AnalysisPipeline.print(priority = True, flags = True)"
   ]
  },
  {
   "cell_type": "code",
   "outputs": [],
   "source": [
    "AnalysisPipeline_part_1 = AnalysisPipeline[0]\n",
    "AnalysisPipeline_part_2 = AnalysisPipeline\n",
    "del AnalysisPipeline_part_2[0]"
   ],
   "metadata": {
    "collapsed": false,
    "ExecuteTime": {
     "end_time": "2025-03-20T03:34:01.145641Z",
     "start_time": "2025-03-20T03:34:01.143041Z"
    }
   },
   "id": "ff7656f28058b704",
   "execution_count": 4
  },
  {
   "cell_type": "code",
   "execution_count": 5,
   "id": "5f0ffc4d4362a68b",
   "metadata": {
    "collapsed": false,
    "ExecuteTime": {
     "end_time": "2025-03-20T03:34:01.155844Z",
     "start_time": "2025-03-20T03:34:01.146644Z"
    }
   },
   "outputs": [],
   "source": [
    "with open(picklePath +'Pre Processing.pickle', 'rb') as f:\n",
    "    flag_preProcessing = pickle.load(f)\n",
    "\n",
    "with open(picklePath +  'Modeling.pickle', 'rb') as f:\n",
    "    flag_modeling = pickle.load(f)\n",
    "\n",
    "with open(picklePath + 'Dummy Processing.pickle', 'rb') as f:\n",
    "    flag_dummy= pickle.load(f)\n",
    "\n",
    "with open(picklePath + 'Label AirTag.pickle', 'rb') as f:\n",
    "    flag_label_AirTag = pickle.load(f)\n",
    "\n",
    "with open(picklePath +  'Label Chipolo.pickle', 'rb') as f:\n",
    "    flag_label_Chipolo= pickle.load(f)\n",
    "\n",
    "with open(picklePath + 'Label SkyTag.pickle', 'rb') as f:\n",
    "    flag_label_SkyTag= pickle.load(f)\n",
    "\n",
    "with open(picklePath + 'Label SmartTag.pickle', 'rb') as f:\n",
    "    flag_label_SmartTag = pickle.load(f)\n",
    "\n",
    "with open(picklePath + 'Label Tile.pickle', 'rb') as f:\n",
    "    flag_label_Tile = pickle.load(f)\n",
    "\n",
    "with open(picklePath + 'Label AirTag and iPhone.pickle', 'rb') as f:\n",
    "    flag_label_AirTag_and_iPhone = pickle.load(f)\n",
    "\n",
    "with open(picklePath + 'Label Chipolo and iPhone.pickle', 'rb') as f:\n",
    "    flag_label_Chipolo_and_iPhone = pickle.load(f)\n",
    "\n",
    "with open(picklePath + 'Label SkyTag and iPhone.pickle', 'rb') as f:\n",
    "    flag_label_SkyTag_and_iPhone = pickle.load(f)\n",
    "\n",
    "with open(picklePath + 'Label SmartTag and other Device.pickle', 'rb') as f:\n",
    "    flag_label_SmartTag_and_Other = pickle.load(f)\n",
    "\n",
    "with open(picklePath + 'Label Tile and iPhone.pickle', 'rb') as f:\n",
    "    flag_label_Tile_and_iPhone = pickle.load(f)\n",
    "\n",
    "with open(picklePath + 'State lost.pickle', 'rb') as f:\n",
    "    flag_state_lost = pickle.load(f)\n",
    "\n",
    "with open(picklePath + 'State unpaired.pickle', 'rb') as f:\n",
    "    flag_state_unpaired = pickle.load(f)\n",
    "\n",
    "with open(picklePath + 'State nearby.pickle', 'rb') as f:\n",
    "    flag_state_nearby = pickle.load(f)\n",
    "\n",
    "with open(picklePath + 'State searching.pickle', 'rb') as f:\n",
    "    flag_state_searching= pickle.load(f)\n",
    "\n",
    "with open(picklePath + 'State online.pickle', 'rb') as f:\n",
    "    flag_state_online= pickle.load(f)\n",
    "\n",
    "with open(picklePath + 'State offline.pickle', 'rb') as f:\n",
    "    flag_state_offline= pickle.load(f)\n",
    "\n",
    "with open(picklePath + 'Label iPhone.pickle', 'rb') as f:\n",
    "    flag_label_iPhone =  pickle.load(f)\n",
    "\n",
    "with open(picklePath + 'Label iPad.pickle', 'rb') as f:\n",
    "    flag_label_iPad=  pickle.load(f)\n",
    "\n",
    "with open(picklePath + 'Label MacBook.pickle', 'rb') as f:\n",
    "    flag_label_MacBook =  pickle.load(f)\n",
    "\n",
    "with open(picklePath + 'Label AirPod.pickle', 'rb') as f:\n",
    "    flag_label_AirPod = pickle.load(f)\n",
    "\n",
    "with open(picklePath + 'Label AirPod and iPhone.pickle', 'rb') as f:\n",
    "    flag_label_AirPod_and_iPhone = pickle.load(f)\n",
    "\n",
    "with open(picklePath + 'States iDevices.pickle', 'rb') as f:\n",
    "    flag_states_iDevices = pickle.load(f)\n",
    "\n",
    "with open(picklePath + 'Label other Device.pickle', 'rb') as f:\n",
    "    flag_label_other_Device = pickle.load(f)\n"
   ]
  },
  {
   "cell_type": "code",
   "outputs": [],
   "source": [
    "def getPlotPipeline(titleSuffix: str, labelColumn: str = 'Label', show: bool = False, savePath: str = plotPath, mode:str='analysis') -> TaskGroup:\n",
    "    return PlotPipelineFactory(titleSuffix=titleSuffix, labelColumn=labelColumn, show=show, savePath=savePath, mode=mode)"
   ],
   "metadata": {
    "collapsed": false,
    "ExecuteTime": {
     "end_time": "2025-03-20T03:34:01.158997Z",
     "start_time": "2025-03-20T03:34:01.155844Z"
    }
   },
   "id": "28d3d016e501748e",
   "execution_count": 6
  },
  {
   "cell_type": "code",
   "execution_count": 7,
   "id": "21983744cf9753ea",
   "metadata": {
    "collapsed": false,
    "ExecuteTime": {
     "end_time": "2025-03-20T03:34:01.163444Z",
     "start_time": "2025-03-20T03:34:01.158997Z"
    }
   },
   "outputs": [],
   "source": [
    "def filesToDataFrame(filesDict: dict[str:AbstractFlag], filePath: str = dataPath, labelColumn: str = 'Label', dropLabels:list[str] =None) -> pd.DataFrame:\n",
    "    if dropLabels is None:\n",
    "        dropLabels = []\n",
    "        \n",
    "    dataset = pd.DataFrame()\n",
    "\n",
    "    for f in filesDict:\n",
    "        myPipeline = Pipeline().setPath(filePath + f).loadData()\n",
    "\n",
    "        new_dataset = myPipeline.setTask(AnalysisPipeline_part_1).run()\n",
    "        new_dataset_labeled = AnalysisPipeline_part_2.process(new_dataset,flag=filesDict[f])\n",
    "        \n",
    "        new_dataset[labelColumn] = new_dataset_labeled[labelColumn]\n",
    "        new_dataset['File'] = f.split(\"\\\\\")[-1][:-4]\n",
    "        dataset = pd.concat([dataset, new_dataset])\n",
    "\n",
    "        for label in dropLabels:  \n",
    "            dataset = dataset[~dataset[labelColumn].str.contains(label)]\n",
    "            \n",
    "        dataset = dataset[~dataset[labelColumn].isin(dropLabels)]\n",
    "            \n",
    "    dataset.reset_index(drop = True, inplace = True)\n",
    "\n",
    "    return dataset"
   ]
  },
  {
   "cell_type": "code",
   "execution_count": 8,
   "id": "6ed595576dcf4cc1",
   "metadata": {
    "collapsed": false,
    "ExecuteTime": {
     "end_time": "2025-03-20T03:35:34.292497Z",
     "start_time": "2025-03-20T03:34:01.164448Z"
    }
   },
   "outputs": [],
   "source": [
    "files = {r\"AirTag\\AirTag_(nearby).csv\": Flag(\"nearby\", parents = [flag_preProcessing, flag_dummy, flag_label_AirTag_and_iPhone, flag_state_nearby]),\n",
    "         r\"AirTag\\AirTag_(lost).csv\": Flag(\"lost\", parents = [flag_preProcessing, flag_dummy, flag_label_AirTag, flag_state_lost]),\n",
    "         r\"AirTag\\AirTag_(unpaired).csv\": Flag(\"unpaired\", parents = [flag_preProcessing, flag_dummy, flag_label_AirTag, flag_state_unpaired]),\n",
    "\n",
    "         r\"Chipolo\\Chipolo_(nearby).csv\": Flag(\"nearby\", parents = [flag_preProcessing, flag_dummy, flag_label_Chipolo_and_iPhone, flag_state_nearby]),\n",
    "         r\"Chipolo\\Chipolo_(lost).csv\": Flag(\"lost\", parents = [flag_preProcessing, flag_dummy, flag_label_Chipolo, flag_state_lost]),\n",
    "         r\"Chipolo\\Chipolo_(unpaired).csv\": Flag(\"unpaired\", parents = [flag_preProcessing, flag_dummy, flag_label_Chipolo, flag_state_unpaired]),\n",
    "\n",
    "         r\"SkyTag\\SkyTag_(nearby).csv\": Flag(\"nearby\", parents = [flag_preProcessing, flag_dummy, flag_label_SkyTag_and_iPhone, flag_state_nearby]),\n",
    "         r\"SkyTag\\SkyTag_(lost).csv\": Flag(\"lost\", parents = [flag_preProcessing, flag_dummy, flag_label_SkyTag, flag_state_lost]),\n",
    "         r\"SkyTag\\SkyTag_(unpaired).csv\": Flag(\"unpaired\", parents = [flag_preProcessing, flag_dummy, flag_label_SkyTag, flag_state_unpaired]),\n",
    "         }\n",
    "\n",
    "data = filesToDataFrame(files, dropLabels=['iPhone'])\n",
    "\n",
    "name = 'FindMy Tracker'\n",
    "plotPipeline = getPlotPipeline(name, savePath=plotPath + name + \"\\\\\")\n",
    "data = plotPipeline.execute(data)"
   ]
  },
  {
   "cell_type": "code",
   "outputs": [],
   "source": [
    "files = {r\"SmartTag\\SmartTag_(nearby).csv\": Flag(\"nearby\", parents = [flag_preProcessing, flag_dummy, flag_label_SmartTag_and_Other, flag_state_nearby]),\n",
    "         r\"SmartTag\\SmartTag_(lost).csv\": Flag(\"lost\", parents = [flag_preProcessing, flag_dummy, flag_label_SmartTag, flag_state_lost]),\n",
    "         r\"SmartTag\\SmartTag_(unpaired).csv\": Flag(\"unpaired\", parents = [flag_preProcessing, flag_dummy, flag_label_SmartTag, flag_state_unpaired]),\n",
    "         r\"SmartTag\\SmartTag_(searching).csv\": Flag(\"searching\", parents = [flag_preProcessing, flag_dummy, flag_label_SmartTag, flag_state_searching])\n",
    "         }\n",
    "\n",
    "data = filesToDataFrame(files, dropLabels=['other Device'])\n",
    "\n",
    "name = 'SmartTag'\n",
    "plotPipeline = getPlotPipeline(name, savePath=plotPath + name + \"\\\\\")\n",
    "data = plotPipeline.execute(data)"
   ],
   "metadata": {
    "collapsed": false,
    "ExecuteTime": {
     "end_time": "2025-03-20T03:35:58.780078Z",
     "start_time": "2025-03-20T03:35:34.293549Z"
    }
   },
   "id": "c1f3c0369f0225f3",
   "execution_count": 9
  },
  {
   "cell_type": "code",
   "outputs": [],
   "source": [
    "files = {r\"Tile\\Tile_(nearby).csv\": Flag(\"nearby\", parents = [flag_preProcessing, flag_dummy, flag_label_Tile_and_iPhone, flag_state_nearby]),\n",
    "         r\"Tile\\Tile_(lost).csv\": Flag(\"lost\", parents = [flag_preProcessing, flag_dummy, flag_label_Tile, flag_state_lost]),\n",
    "         r\"Tile\\Tile_(unpaired).csv\": Flag(\"unpaired\", parents = [flag_preProcessing, flag_dummy, flag_label_Tile, flag_state_unpaired]),\n",
    "         r\"Tile\\Tile_(searching).csv\": Flag(\"searching\", parents = [flag_preProcessing, flag_dummy, flag_label_Tile, flag_state_searching]),\n",
    "         }\n",
    "\n",
    "data = filesToDataFrame(files, dropLabels=['iPhone'])\n",
    "\n",
    "name = 'Tile'\n",
    "plotPipeline = getPlotPipeline(name, savePath=plotPath + name + \"\\\\\")\n",
    "data = plotPipeline.execute(data)"
   ],
   "metadata": {
    "collapsed": false,
    "ExecuteTime": {
     "end_time": "2025-03-20T03:36:27.549580Z",
     "start_time": "2025-03-20T03:35:58.780078Z"
    }
   },
   "id": "533bc8b7bfae9933",
   "execution_count": 10
  },
  {
   "cell_type": "code",
   "outputs": [],
   "source": [
    "files = {r\"iPhone\\iPhone_(online).csv\": Flag(\"online\", parents = [flag_preProcessing, flag_dummy, flag_label_iPhone, flag_state_online]),\n",
    "         r\"iPhone\\iPhone_(offline).csv\": Flag(\"offline\", parents = [flag_preProcessing, flag_dummy, flag_label_iPhone, flag_state_offline]),\n",
    "         }\n",
    "\n",
    "data = filesToDataFrame(files, dropLabels=['iPhone (offline)', 'iPhone (online)'])\n",
    "\n",
    "name = 'iPhone'\n",
    "plotPipeline = getPlotPipeline(name, savePath=plotPath + name + \"\\\\\")\n",
    "data = plotPipeline.execute(data)"
   ],
   "metadata": {
    "collapsed": false,
    "ExecuteTime": {
     "end_time": "2025-03-20T03:37:41.782829Z",
     "start_time": "2025-03-20T03:36:27.549580Z"
    }
   },
   "id": "feee81af326121e2",
   "execution_count": 11
  },
  {
   "cell_type": "code",
   "outputs": [],
   "source": [
    "files = {r\"iPad\\iPad_(online).csv\": Flag(\"online\", parents = [flag_preProcessing, flag_dummy, flag_label_iPad, flag_state_online]),\n",
    "         r\"iPad\\iPad_(offline).csv\": Flag(\"offline\", parents = [flag_preProcessing, flag_dummy, flag_label_iPad, flag_state_offline]),\n",
    "         }\n",
    "\n",
    "data = filesToDataFrame(files, dropLabels=['iPad (offline)', 'iPad (online)', 'iPad CT 09 (offline)'])\n",
    "\n",
    "name = 'iPad'\n",
    "plotPipeline = getPlotPipeline(name, savePath=plotPath + name + \"\\\\\")\n",
    "data = plotPipeline.execute(data)"
   ],
   "metadata": {
    "collapsed": false,
    "ExecuteTime": {
     "end_time": "2025-03-20T03:38:45.691209Z",
     "start_time": "2025-03-20T03:37:41.782829Z"
    }
   },
   "id": "4072499e0d1353b",
   "execution_count": 12
  },
  {
   "cell_type": "code",
   "outputs": [],
   "source": [
    "files = {r\"MacBook\\MacBook_(online).csv\": Flag(\"online\", parents = [flag_preProcessing, flag_dummy, flag_label_MacBook, flag_state_online]),\n",
    "         r\"MacBook\\MacBook_(offline).csv\": Flag(\"offline\", parents = [flag_preProcessing, flag_dummy, flag_label_MacBook, flag_state_offline]),\n",
    "         }\n",
    "\n",
    "data = filesToDataFrame(files, dropLabels=['MacBook (offline)', 'MacBook (online)'])\n",
    "\n",
    "name = 'MacBook'\n",
    "plotPipeline = getPlotPipeline(name, savePath=plotPath + name + \"\\\\\")\n",
    "data = plotPipeline.execute(data)"
   ],
   "metadata": {
    "collapsed": false,
    "ExecuteTime": {
     "end_time": "2025-03-20T03:41:43.199271Z",
     "start_time": "2025-03-20T03:38:45.691282Z"
    }
   },
   "id": "dab655e373e98495",
   "execution_count": 13
  },
  {
   "cell_type": "code",
   "outputs": [],
   "source": [
    "files = {r\"AirPod\\AirPod_(nearby).csv\": Flag(\"nearby\", parents = [flag_preProcessing, flag_dummy, flag_label_AirPod_and_iPhone, flag_states_iDevices, flag_state_nearby]),\n",
    "         r\"AirPod\\AirPod_(lost).csv\": Flag(\"lost\", parents = [flag_preProcessing, flag_dummy, flag_label_AirPod, flag_states_iDevices, flag_state_lost]),\n",
    "         }\n",
    "\n",
    "data = filesToDataFrame(files, dropLabels=['AirPod (lost)', 'AirPod (nearby)', 'iPhone', 'AirPod CT 09 (nearby)'])\n",
    "\n",
    "name = 'AirPod'\n",
    "plotPipeline = getPlotPipeline(name, savePath=plotPath + name + \"\\\\\")\n",
    "data = plotPipeline.execute(data)"
   ],
   "metadata": {
    "collapsed": false,
    "ExecuteTime": {
     "end_time": "2025-03-20T03:43:19.141796Z",
     "start_time": "2025-03-20T03:41:43.200276Z"
    }
   },
   "id": "c1452c35d77f4eca",
   "execution_count": 14
  },
  {
   "cell_type": "code",
   "outputs": [],
   "source": [
    "files = {r\"other Device\\other Device.csv\": Flag(\"other Device\", parents = [flag_preProcessing, flag_dummy, flag_label_other_Device]),\n",
    "         }\n",
    "\n",
    "data = filesToDataFrame(files)\n",
    "\n",
    "name = 'other Device'\n",
    "plotPipeline = getPlotPipeline(name, savePath=plotPath + name + \"\\\\\")\n",
    "data = plotPipeline.execute(data)"
   ],
   "metadata": {
    "collapsed": false,
    "ExecuteTime": {
     "end_time": "2025-03-20T03:44:28.959907Z",
     "start_time": "2025-03-20T03:43:19.141796Z"
    }
   },
   "id": "938a31a26241d208",
   "execution_count": 15
  }
 ],
 "metadata": {
  "kernelspec": {
   "display_name": "Python 3 (ipykernel)",
   "language": "python",
   "name": "python3"
  },
  "language_info": {
   "codemirror_mode": {
    "name": "ipython",
    "version": 3
   },
   "file_extension": ".py",
   "mimetype": "text/x-python",
   "name": "python",
   "nbconvert_exporter": "python",
   "pygments_lexer": "ipython3",
   "version": "3.11.5"
  }
 },
 "nbformat": 4,
 "nbformat_minor": 5
}
